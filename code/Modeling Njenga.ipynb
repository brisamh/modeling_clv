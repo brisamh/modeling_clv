{
 "cells": [
  {
   "cell_type": "code",
   "execution_count": 1,
   "id": "dde6cc57-ee5f-4da0-9f31-8b2dec72647a",
   "metadata": {},
   "outputs": [],
   "source": [
    "## import pandas, numpy, and matplotlib\n",
    "import pandas as pd\n",
    "import numpy as np\n",
    "import matplotlib.pyplot as plt\n",
    "import seaborn as sns\n",
    "\n",
    "#Import sklearn\n",
    "from sklearn.model_selection import train_test_split\n",
    "from sklearn.linear_model import LinearRegression\n",
    "from sklearn.metrics import mean_squared_error, r2_score\n",
    "\n",
    "import statsmodels.api as sm\n",
    "import itertools\n",
    "#set plotting style\n",
    "sns.set_style('whitegrid')"
   ]
  },
  {
   "cell_type": "code",
   "execution_count": 2,
   "id": "0b6aabe4-2fd1-4ba3-bb62-8c09aac171bd",
   "metadata": {},
   "outputs": [],
   "source": [
    "clv_df = pd.read_csv('https://raw.githubusercontent.com/brisamh/modeling_clv/refs/heads/bhalviatti/data/clean_clv_data.csv')"
   ]
  },
  {
   "cell_type": "markdown",
   "id": "d19b782e-5367-47ce-ae77-67cf10806843",
   "metadata": {},
   "source": [
    "# Explore Different Models"
   ]
  },
  {
   "cell_type": "code",
   "execution_count": null,
   "id": "b18624e4-9fd4-4945-9852-c08c1bd683ec",
   "metadata": {},
   "outputs": [],
   "source": []
  }
 ],
 "metadata": {
  "kernelspec": {
   "display_name": "Python [conda env:base] *",
   "language": "python",
   "name": "conda-base-py"
  },
  "language_info": {
   "codemirror_mode": {
    "name": "ipython",
    "version": 3
   },
   "file_extension": ".py",
   "mimetype": "text/x-python",
   "name": "python",
   "nbconvert_exporter": "python",
   "pygments_lexer": "ipython3",
   "version": "3.13.5"
  }
 },
 "nbformat": 4,
 "nbformat_minor": 5
}
